{
 "cells": [
  {
   "cell_type": "code",
   "execution_count": null,
   "metadata": {},
   "outputs": [],
   "source": [
    "import pandas as pd\n",
    "import matplotlib.pyplot as plt\n",
    "import numpy as np\n",
    "import warnings\n",
    "warnings.filterwarnings('ignore')"
   ]
  },
  {
   "cell_type": "code",
   "execution_count": null,
   "metadata": {},
   "outputs": [],
   "source": [
    "from plotly import __version__\n",
    "import cufflinks as cf\n",
    "from plotly.offline import download_plotlyjs,init_notebook_mode,plot,iplot\n",
    "import plotly.graph_objects as go\n",
    "import plotly.figure_factory as ff\n",
    "import plotly.express as px\n",
    "from plotly.subplots import make_subplots\n",
    "from urllib.request import urlopen\n",
    "import json\n",
    "init_notebook_mode(connected=True)\n",
    "cf.go_offline()"
   ]
  },
  {
   "cell_type": "markdown",
   "metadata": {},
   "source": [
    "### NYTimes dataframe"
   ]
  },
  {
   "cell_type": "code",
   "execution_count": null,
   "metadata": {},
   "outputs": [],
   "source": [
    "df = pd.read_csv('https://raw.githubusercontent.com/nytimes/covid-19-data/master/us-counties.csv',\n",
    "                 dtype={\"fips\": str})"
   ]
  },
  {
   "cell_type": "markdown",
   "metadata": {},
   "source": [
    "#### NYC dataframe"
   ]
  },
  {
   "cell_type": "code",
   "execution_count": null,
   "metadata": {},
   "outputs": [],
   "source": [
    "df_ny = df[df['county'] == 'New York City']\n",
    "df_ny['new_cases'] = df_ny['cases'] - df_ny['cases'].shift(1)\n",
    "df_ny['growth_factor'] = df_ny['new_cases']/df_ny.shift(1)['new_cases']\n",
    "df_ny['new_deaths'] = df_ny['deaths'] - df_ny['deaths'].shift(1)"
   ]
  },
  {
   "cell_type": "markdown",
   "metadata": {},
   "source": [
    "#### Fairfield dataframe"
   ]
  },
  {
   "cell_type": "code",
   "execution_count": null,
   "metadata": {},
   "outputs": [],
   "source": [
    "df_ff = df[df['fips'] == '09001'] \n",
    "df_ff['new_cases'] = df_ff['cases'] - df_ff['cases'].shift(1)\n",
    "df_ff['growth_factor'] = df_ff['new_cases']/df_ff.shift(1)['new_cases']\n",
    "df_ff['new_deaths'] = df_ff['deaths'] - df_ff['deaths'].shift(1)"
   ]
  },
  {
   "cell_type": "markdown",
   "metadata": {},
   "source": [
    "### Preparing line and bar plots"
   ]
  },
  {
   "cell_type": "code",
   "execution_count": null,
   "metadata": {},
   "outputs": [],
   "source": [
    "fig_cases_nyc = make_subplots(specs=[[{\"secondary_y\": True}]],subplot_titles=['Coronavirus cases in NYC'])\n",
    "\n",
    "fig_cases_nyc.add_trace(\n",
    "    go.Scatter(\n",
    "        x=df_ny['date'][df_ny['date']>'2020-03-15'],\n",
    "        y=df_ny['cases'][df_ny['date']>'2020-03-08'].\\\n",
    "          shift().rolling(window=7).mean().dropna().apply(lambda x: int(x)),\n",
    "          name=\"Total number of cases <br> 7-day average\",line=dict(width=4)),\n",
    "          secondary_y=True)\n",
    "\n",
    "fig_cases_nyc.add_trace(\n",
    "    go.Bar(\n",
    "        x=df_ny['date'][df_ny['date']>'2020-03-15'],\n",
    "        y=df_ny['new_cases'][df_ny['date']>'2020-03-15'],\n",
    "          name=\"Daily new cases\"),\n",
    "          secondary_y=False)\n",
    "\n",
    "fig_cases_nyc.add_trace(\n",
    "    go.Scatter(\n",
    "        x=df_ny['date'][df_ny['date']>'2020-03-15'],\n",
    "        y=df_ny['new_cases'][df_ny['date']>'2020-03-08'].\\\n",
    "          shift().rolling(window=7).mean().dropna().apply(lambda x: int(x)),\n",
    "          name=\"Daily new cases <br> 7-day average\",line=dict(width=4)),\n",
    "          secondary_y=False)\n",
    "\n",
    "fig_cases_nyc.update_xaxes(title_text=\"Date\");\n",
    "fig_cases_nyc.update_layout(margin={\"r\":0,\"t\":30,\"l\":0,\"b\":0},font=dict(size=18))"
   ]
  },
  {
   "cell_type": "code",
   "execution_count": null,
   "metadata": {},
   "outputs": [],
   "source": [
    "fig_deaths_nyc = make_subplots(specs=[[{\"secondary_y\": True}]],subplot_titles=['Coronavirus deaths in NYC'])\n",
    "\n",
    "fig_deaths_nyc.add_trace(\n",
    "    go.Scatter(\n",
    "        x=df_ny['date'][df_ny['date']>'2020-03-15'],\n",
    "        y=df_ny['deaths'][df_ny['date']>'2020-03-08'].\\\n",
    "          shift().rolling(window=7).mean().dropna().apply(lambda x: int(x)),\n",
    "        name=\"Total number of Deaths <br> 7-day average\",line=dict(width=4)),\n",
    "        secondary_y=True)\n",
    "\n",
    "fig_deaths_nyc.add_trace(\n",
    "    go.Bar(\n",
    "        x=df_ny['date'][df_ny['date']>'2020-03-15'],\n",
    "        y=df_ny['new_deaths'][df_ny['date']>'2020-03-15'],\n",
    "        name=\"Daily new deaths\",),\n",
    "        secondary_y=False)\n",
    "\n",
    "fig_deaths_nyc.add_trace(\n",
    "    go.Scatter(\n",
    "        x=df_ny['date'][df_ny['date']>'2020-03-15'],\n",
    "        y=df_ny['new_deaths'][df_ny['date']>'2020-03-08'].\\\n",
    "          shift().rolling(window=7).mean().dropna().apply(lambda x: int(x)),\n",
    "        name=\"Daily new deaths <br> 7-day average\",line=dict(width=4)),\n",
    "        secondary_y=False)\n",
    "\n",
    "ymax_daily = np.ceil(df_ny['new_deaths'].max()/100)*100\n",
    "ymax_total = np.ceil(df_ny['deaths'][df_ny['date']>'2020-03-08'].shift().rolling(window=7).\\\n",
    "                                                                  mean().dropna().max()/1000)*1000\n",
    "fig_deaths_nyc.update_xaxes(title_text=\"Date\")\n",
    "fig_deaths_nyc.update_yaxes(dict(range=[0, ymax_daily]),secondary_y=False)\n",
    "fig_deaths_nyc.update_yaxes(dict(range=[0, ymax_total]),secondary_y=True);\n",
    "fig_deaths_nyc.update_layout(margin={\"r\":0,\"t\":30,\"l\":0,\"b\":0},font=dict(size=18))"
   ]
  },
  {
   "cell_type": "code",
   "execution_count": null,
   "metadata": {},
   "outputs": [],
   "source": [
    "fig_ff_cases = make_subplots(specs=[[{\"secondary_y\": True}]],subplot_titles=['Coronavirus cases in Fairfield'])\n",
    "\n",
    "fig_ff_cases.add_trace(\n",
    "    go.Scatter(\n",
    "        x=df_ff['date'][df_ff['date']>'2020-03-15'],\n",
    "        y=df_ff['cases'][df_ff['date']>'2020-03-08'].\\\n",
    "          shift().rolling(window=7).mean().dropna().apply(lambda x: int(x)),\n",
    "        name=\"Total number of cases <br> 7-day average\",line=dict(width=4)),\n",
    "        secondary_y=True)\n",
    "\n",
    "fig_ff_cases.add_trace(\n",
    "    go.Bar(\n",
    "        x=df_ff['date'][df_ff['date']>'2020-03-15'],\n",
    "        y=df_ff['new_cases'][df_ff['date']>'2020-03-15'],\n",
    "        name=\"Daily new cases\"),\n",
    "        secondary_y=False)\n",
    "\n",
    "fig_ff_cases.add_trace(\n",
    "    go.Scatter(\n",
    "        x=df_ff['date'][df_ff['date']>'2020-03-15'],\n",
    "        y=df_ff['new_cases'][df_ff['date']>'2020-03-08'].\\\n",
    "          shift().rolling(window=7).mean().dropna().apply(lambda x: int(x)),\n",
    "        name=\"Daily new cases <br> 7-day average\",line=dict(width=4)),\n",
    "        secondary_y=False)\n",
    "\n",
    "fig_ff_cases.update_xaxes(title_text=\"Date\");\n",
    "fig_ff_cases.update_layout(margin={\"r\":0,\"t\":30,\"l\":0,\"b\":0},font=dict(size=18))"
   ]
  },
  {
   "cell_type": "code",
   "execution_count": null,
   "metadata": {},
   "outputs": [],
   "source": [
    "fig_ff_deaths = make_subplots(specs=[[{\"secondary_y\": True}]],subplot_titles=['Coronavirus deaths in Fairfield'])\n",
    "\n",
    "fig_ff_deaths.add_trace(\n",
    "    go.Scatter(\n",
    "        x=df_ff['date'][df_ff['date']>'2020-03-15'],\n",
    "        y=df_ff['deaths'][df_ff['date']>'2020-03-08'].\\\n",
    "          shift().rolling(window=7).mean().dropna().apply(lambda x: int(x)),\n",
    "        name=\"Total number of Deaths <br> 7-day average\",line=dict(width=4)),\n",
    "        secondary_y=True)\n",
    "\n",
    "fig_ff_deaths.add_trace(\n",
    "    go.Bar(\n",
    "        x=df_ff['date'][df_ff['date']>'2020-03-15'],\n",
    "        y=df_ff['new_deaths'][df_ff['date']>'2020-03-15'],\n",
    "        name=\"Daily new deaths\",),\n",
    "        secondary_y=False)\n",
    "\n",
    "fig_ff_deaths.add_trace(\n",
    "    go.Scatter(\n",
    "        x=df_ff['date'][df_ff['date']>'2020-03-15'],\n",
    "        y=df_ff['new_deaths'][df_ff['date']>'2020-03-08'].\\\n",
    "          shift().rolling(window=7).mean().dropna().apply(lambda x: int(x)),\n",
    "        name=\"Daily new deaths <br> 7-day average\",line=dict(width=4)),\n",
    "        secondary_y=False)\n",
    "\n",
    "ymax_daily = np.ceil(df_ff['new_deaths'].max()/100)*100\n",
    "ymax_total = np.ceil(df_ff['deaths'][df_ff['date']>'2020-03-08'].shift().rolling(window=7).\\\n",
    "                                                                  mean().dropna().max()/1000)*1000\n",
    "fig_ff_deaths.update_xaxes(title_text=\"Date\")\n",
    "fig_ff_deaths.update_yaxes(dict(range=[0, ymax_daily]),secondary_y=False)\n",
    "fig_ff_deaths.update_yaxes(dict(range=[0, ymax_total]),secondary_y=True);\n",
    "fig_ff_deaths.update_layout(margin={\"r\":0,\"t\":30,\"l\":0,\"b\":0},font=dict(size=18))"
   ]
  },
  {
   "cell_type": "markdown",
   "metadata": {},
   "source": [
    "### Geographical plotting"
   ]
  },
  {
   "cell_type": "markdown",
   "metadata": {},
   "source": [
    "#### Preparing dataframes for geographical plotting"
   ]
  },
  {
   "cell_type": "code",
   "execution_count": null,
   "metadata": {},
   "outputs": [],
   "source": [
    "\"\"\"\n",
    "The NYTimes dataset does not contain seperate information for each county in NYC. These are created here. \n",
    "The ratios of cases in each county are approximate, taken from NYS website.\n",
    "\"\"\"\n",
    "df_geo = df.copy()\n",
    "\n",
    "for x,fips in enumerate(df_geo['fips']):\n",
    "    if fips != fips:\n",
    "        df_geo['fips'].iloc[x] = '36061'\n",
    "        \n",
    "NY = df_geo[df_geo['date'] == df_geo['date'].max()][(df_geo['county'] == 'New York City') |\n",
    "                                                    (df_geo['county'] == 'New York')]\n",
    "NY['county'] = 'New York'\n",
    "NY['cases'] = int(NY['cases']*.147)\n",
    "NY['deaths'] = int(NY['deaths']*.147)\n",
    "\n",
    "Bronx = df_geo[df_geo['date'] == df_geo['date'].max()][df_geo['county'] == 'New York City']\n",
    "Bronx['county'] = 'Bronx'\n",
    "Bronx['fips'] = '36005'\n",
    "Bronx['cases'] = int(Bronx['cases']*.194)\n",
    "Bronx['deaths'] = int(Bronx['deaths']*.194)\n",
    "\n",
    "Kings = df_geo[df_geo['date'] == df_geo['date'].max()][df_geo['county'] == 'New York City']\n",
    "Kings['county'] = 'Kings'\n",
    "Kings['fips'] = '36047'\n",
    "Kings['cases'] = int(Kings['cases']*.287)\n",
    "Kings['deaths'] = int(Kings['deaths']*.287)\n",
    "\n",
    "Queens = df_geo[df_geo['date'] == df_geo['date'].max()][df_geo['county'] == 'New York City']\n",
    "Queens['county'] = 'Queens'\n",
    "Queens['fips'] = '36081'\n",
    "Queens['cases'] = int(Queens['cases']*.291)\n",
    "Queens['deaths'] = int(Queens['deaths']*.291)\n",
    "\n",
    "Richmond = df_geo[df_geo['date'] == df_geo['date'].max()][df_geo['county'] == 'New York City']\n",
    "Richmond['county'] = 'Richmond'\n",
    "Richmond['fips'] = '36085'\n",
    "Richmond['cases'] = int(Richmond['cases']*0.081)\n",
    "Richmond['deaths'] = int(Richmond['deaths']*0.081)\n",
    "\n",
    "df_geo = df_geo.append([NY,Bronx,Kings,Queens,Richmond],ignore_index=True)\n",
    "df_geo.drop(index=df_geo[df_geo['date'] == df_geo['date'].max()][df_geo['county'] == 'New York City'].index[0],\n",
    "            inplace=True)\n",
    "\n",
    "df_nyct = df_geo[(df_geo['date'] == df_geo['date'].max()) & \n",
    "                 ((df_geo['state'] == 'New York') | \n",
    "                 (df_geo['state'] == 'Connecticut')) &~\n",
    "                 (df_geo['county'] == 'Unknown')].reset_index()\n",
    "df_nyct.drop('index',axis=1,inplace=True)\n",
    "\n",
    "df_NE = df_geo[(df_geo['date'] == df_geo['date'].max()) & \n",
    "               ((df_geo['state'] == 'New York') | \n",
    "               (df_geo['state'] == 'Connecticut') |\n",
    "               (df_geo['state'] == 'Massachusetts') |\n",
    "               (df_geo['state'] == 'Maine') |\n",
    "               (df_geo['state'] == 'New Hampshire') |\n",
    "               (df_geo['state'] == 'Vermont') |\n",
    "               (df_geo['state'] == 'New Jersey') |\n",
    "               (df_geo['state'] == 'Pennsylvania') |\n",
    "               (df_geo['state'] == 'Rhode Island')) &~\n",
    "               (df_geo['county'] == 'Unknown')].reset_index()\n",
    "df_NE.drop('index',axis=1,inplace=True)"
   ]
  },
  {
   "cell_type": "markdown",
   "metadata": {},
   "source": [
    "#### Get county information and fips for choropleth plotting"
   ]
  },
  {
   "cell_type": "code",
   "execution_count": null,
   "metadata": {},
   "outputs": [],
   "source": [
    "with urlopen('https://raw.githubusercontent.com/plotly/datasets/master/geojson-counties-fips.json') as response:\n",
    "    counties = json.load(response)"
   ]
  },
  {
   "cell_type": "markdown",
   "metadata": {},
   "source": [
    "#### Preparing geographical plots of NY/CT and Northeast"
   ]
  },
  {
   "cell_type": "code",
   "execution_count": null,
   "metadata": {},
   "outputs": [],
   "source": [
    "fig_cases_nyct = px.choropleth(df_nyct, geojson=counties, locations='fips', color='cases',\n",
    "                               projection=\"mercator\", hover_data=['state','county'],\n",
    "                               title='Total number of coronavirus cases in NY and CT',\n",
    "                               color_continuous_scale=\"RdBu_r\",\n",
    "                               range_color=(0, np.round(df_nyct['cases'].max()/100000)*100000))\n",
    "\n",
    "fig_cases_nyct.update_geos(fitbounds=\"locations\", visible=False)\n",
    "fig_cases_nyct.update_layout(margin={\"r\":0,\"t\":50,\"l\":0,\"b\":0},font=dict(size=18))"
   ]
  },
  {
   "cell_type": "code",
   "execution_count": null,
   "metadata": {},
   "outputs": [],
   "source": [
    "fig_deaths_nyct = px.choropleth(df_nyct, geojson=counties, locations='fips', color='deaths',\n",
    "                                projection=\"mercator\", hover_data=['state','county'],\n",
    "                                title='Total number of coronavirus deaths in NY and CT',\n",
    "                                color_continuous_scale=\"RdBu_r\",\n",
    "                                range_color=(0, np.round(df_nyct['deaths'].max()/4/1000)*1000))\n",
    "\n",
    "fig_deaths_nyct.update_geos(fitbounds=\"locations\", visible=False)\n",
    "fig_deaths_nyct.update_layout(margin={\"r\":0,\"t\":50,\"l\":0,\"b\":0},font=dict(size=18))"
   ]
  },
  {
   "cell_type": "code",
   "execution_count": null,
   "metadata": {},
   "outputs": [],
   "source": [
    "fig_cases_ne = px.choropleth(df_NE, geojson=counties, locations='fips', color='cases',\n",
    "                             projection=\"mercator\", hover_data=['state','county'],\n",
    "                             title='Total number of coronavirus cases in Northeastern US',\n",
    "                             color_continuous_scale=\"RdBu_r\",\n",
    "                             range_color=(0, np.round(df_NE['cases'].max()/4/10000)*10000))\n",
    "fig_cases_ne.update_geos(fitbounds=\"locations\", visible=False)\n",
    "fig_cases_ne.update_layout(margin={\"r\":0,\"t\":50,\"l\":0,\"b\":0},font=dict(size=18))"
   ]
  },
  {
   "cell_type": "code",
   "execution_count": null,
   "metadata": {},
   "outputs": [],
   "source": [
    "fig_deaths_ne = px.choropleth(df_NE, geojson=counties, locations='fips', color='deaths',\n",
    "                              projection=\"mercator\", hover_data=['state','county'],\n",
    "                              title='Total number of coronavirus deaths in Northeastern US',\n",
    "                              color_continuous_scale=\"RdBu_r\",\n",
    "                              range_color=(0, np.round(df_NE['deaths'].max()/8/1000)*1000))\n",
    "fig_deaths_ne.update_geos(fitbounds=\"locations\", visible=False)\n",
    "fig_deaths_ne.update_layout(margin={\"r\":0,\"t\":50,\"l\":0,\"b\":0},font=dict(size=18))\n",
    "#fig_deaths_ne.show(renderer='browser')"
   ]
  },
  {
   "cell_type": "markdown",
   "metadata": {},
   "source": [
    "#### Prepare data from all US"
   ]
  },
  {
   "cell_type": "code",
   "execution_count": null,
   "metadata": {},
   "outputs": [],
   "source": [
    "df_US = df_geo[(df_geo['date'] == df_geo['date'].max()) &~\n",
    "                 (df_geo['county'] == 'Unknown')].reset_index()\n",
    "df_US.drop('index',axis=1,inplace=True)\n",
    "df_US.dropna(inplace=True)"
   ]
  },
  {
   "cell_type": "code",
   "execution_count": null,
   "metadata": {},
   "outputs": [],
   "source": [
    "fig_cases_us = px.choropleth(df_US, geojson=counties, locations='fips', color='cases',\n",
    "                             hover_data=['state','county'],\n",
    "                             title='Total number of coronavirus cases in US',\n",
    "                             color_continuous_scale=\"RdBu_r\",\n",
    "                             range_color=(0, np.round(df_US['cases'].max()/10/50000)*50000),scope='usa')\n",
    "fig_cases_us.update_layout(margin={\"r\":0,\"t\":50,\"l\":0,\"b\":0},font=dict(size=18))"
   ]
  },
  {
   "cell_type": "code",
   "execution_count": null,
   "metadata": {},
   "outputs": [],
   "source": [
    "fig_deaths_us = px.choropleth(df_US, geojson=counties, locations='fips', color='deaths',\n",
    "                              hover_data=['state','county'],\n",
    "                              title='Total number of coronavirus deaths in US',\n",
    "                              color_continuous_scale=\"RdBu_r\",\n",
    "                              range_color=(0, np.round(df_US['deaths'].max()/20/1000)*1000),scope='usa')\n",
    "fig_deaths_us.update_layout(margin={\"r\":0,\"t\":50,\"l\":0,\"b\":0},font=dict(size=18))"
   ]
  },
  {
   "cell_type": "markdown",
   "metadata": {},
   "source": [
    "## Plots"
   ]
  },
  {
   "cell_type": "code",
   "execution_count": null,
   "metadata": {
    "scrolled": false
   },
   "outputs": [],
   "source": [
    "fig_cases_nyc.show()#renderer='browser')"
   ]
  },
  {
   "cell_type": "code",
   "execution_count": null,
   "metadata": {
    "scrolled": false
   },
   "outputs": [],
   "source": [
    "df_ny.iplot(x='date',y='cases',width=4,yaxis_type=\"log\",\n",
    "            title='Accumulated number of cases in NYC, logarithmic y-scale',\n",
    "            xaxis_range=['2020-03-7',df_ny['date'].max()])"
   ]
  },
  {
   "cell_type": "code",
   "execution_count": null,
   "metadata": {},
   "outputs": [],
   "source": [
    "fig_deaths_nyc.show()#renderer='browser')"
   ]
  },
  {
   "cell_type": "code",
   "execution_count": null,
   "metadata": {},
   "outputs": [],
   "source": [
    "df_ny.iplot(x='date',y='deaths',width=4,yaxis_type=\"log\",\n",
    "            title='Accumulated number of deaths in NYC, logarithmic y-scale',\n",
    "            xaxis_range=['2020-03-13',df_ny['date'].max()])"
   ]
  },
  {
   "cell_type": "code",
   "execution_count": null,
   "metadata": {},
   "outputs": [],
   "source": [
    "fig_ff_cases.show()#renderer='browser')"
   ]
  },
  {
   "cell_type": "code",
   "execution_count": null,
   "metadata": {},
   "outputs": [],
   "source": [
    "fig_ff_deaths.show()#renderer='browser')"
   ]
  },
  {
   "cell_type": "code",
   "execution_count": null,
   "metadata": {},
   "outputs": [],
   "source": [
    "fig_cases_nyct.show()#renderer='browser')"
   ]
  },
  {
   "cell_type": "code",
   "execution_count": null,
   "metadata": {},
   "outputs": [],
   "source": [
    "fig_deaths_nyct.show()#renderer='browser')"
   ]
  },
  {
   "cell_type": "code",
   "execution_count": null,
   "metadata": {
    "scrolled": false
   },
   "outputs": [],
   "source": [
    "fig_cases_ne.show()#renderer='browser')"
   ]
  },
  {
   "cell_type": "code",
   "execution_count": null,
   "metadata": {
    "scrolled": false
   },
   "outputs": [],
   "source": [
    "fig_deaths_ne.show()#renderer='browser')"
   ]
  },
  {
   "cell_type": "code",
   "execution_count": null,
   "metadata": {
    "scrolled": false
   },
   "outputs": [],
   "source": [
    "fig_cases_us.show()#renderer='browser')"
   ]
  },
  {
   "cell_type": "code",
   "execution_count": null,
   "metadata": {
    "scrolled": false
   },
   "outputs": [],
   "source": [
    "fig_deaths_us.show()#renderer='browser')"
   ]
  }
 ],
 "metadata": {
  "kernelspec": {
   "display_name": "Python 3",
   "language": "python",
   "name": "python3"
  },
  "language_info": {
   "codemirror_mode": {
    "name": "ipython",
    "version": 3
   },
   "file_extension": ".py",
   "mimetype": "text/x-python",
   "name": "python",
   "nbconvert_exporter": "python",
   "pygments_lexer": "ipython3",
   "version": "3.7.7"
  }
 },
 "nbformat": 4,
 "nbformat_minor": 4
}
